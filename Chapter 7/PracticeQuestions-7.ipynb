{
 "cells": [
  {
   "cell_type": "code",
   "execution_count": 1,
   "metadata": {
    "collapsed": true
   },
   "outputs": [],
   "source": [
    "# Q: 18. If numRegex = re.compile(r'\\d+'), what will numRegex.sub('X', '12 drummers, 11 pipers, five rings, 3 hens') return?\n",
    "\n",
    "import re\n",
    "\n",
    "numRegex = re.compile(r'\\d+')"
   ]
  },
  {
   "cell_type": "code",
   "execution_count": 2,
   "outputs": [
    {
     "data": {
      "text/plain": "'X drummers, X pipers, five rings, X hens'"
     },
     "execution_count": 2,
     "metadata": {},
     "output_type": "execute_result"
    }
   ],
   "source": [
    "numRegex.sub('X', '12 drummers, 11 pipers, five rings, 3 hens')"
   ],
   "metadata": {
    "collapsed": false,
    "pycharm": {
     "name": "#%%\n"
    }
   }
  },
  {
   "cell_type": "code",
   "execution_count": 3,
   "outputs": [
    {
     "data": {
      "text/plain": "re.compile(r'^\\d{1,3}(,\\d{3})*$', re.UNICODE)"
     },
     "execution_count": 3,
     "metadata": {},
     "output_type": "execute_result"
    }
   ],
   "source": [
    "# Q: 20. How would you write a regex that matches a number with commas for every three digits? It must match the following:\n",
    "# '42'\n",
    "# '1,234'\n",
    "# '6,368,745'\n",
    "\n",
    "# but not the following:\n",
    "\n",
    "# '12,34,567' (which has only two digits between the commas)\n",
    "# '1234' (which lacks commas)\n",
    "\n",
    "re.compile(r'^\\d{1,3}(,\\d{3})*$')"
   ],
   "metadata": {
    "collapsed": false,
    "pycharm": {
     "name": "#%%\n"
    }
   }
  },
  {
   "cell_type": "code",
   "execution_count": 4,
   "outputs": [
    {
     "data": {
      "text/plain": "re.compile(r'[A-Z][a-z]*\\sNakamoto', re.UNICODE)"
     },
     "execution_count": 4,
     "metadata": {},
     "output_type": "execute_result"
    }
   ],
   "source": [
    "# Q: 21. How would you write a regex that matches the full name of someone whose last name is Nakamoto? You can assume that the first name that comes before it will always be one word that begins with a capital letter. The regex must match the following:\n",
    "# 'Satoshi Nakamoto'\n",
    "# 'Alice Nakamoto'\n",
    "# 'RoboCop Nakamoto'\n",
    "\n",
    "# but not the following:\n",
    "\n",
    "# 'satoshi Nakamoto' (where the first name is not capitalized)\n",
    "# 'Mr. Nakamoto' (where the preceding word has a nonletter character)\n",
    "# 'Nakamoto' (which has no first name)\n",
    "# 'Satoshi nakamoto' (where Nakamoto is not capitalized)\n",
    "\n",
    "re.compile(r'[A-Z][a-z]*\\sNakamoto')"
   ],
   "metadata": {
    "collapsed": false,
    "pycharm": {
     "name": "#%%\n"
    }
   }
  },
  {
   "cell_type": "code",
   "execution_count": 5,
   "outputs": [
    {
     "data": {
      "text/plain": "re.compile(r'(Alice|Bob|Carol)\\s(eats|pets|throws)\\ s(apples|cats|baseballs)\\.',\nre.IGNORECASE|re.UNICODE)"
     },
     "execution_count": 5,
     "metadata": {},
     "output_type": "execute_result"
    }
   ],
   "source": [
    "# Q: 22. How would you write a regex that matches a sentence where the first word is either Alice, Bob, or Carol; the second word is either eats, pets, or throws; the third word is apples, cats, or baseballs; and the sentence ends with a period? This regex should be case-insensitive. It must match the following:\n",
    "# 'Alice eats apples.'\n",
    "# 'Bob pets cats.'\n",
    "# 'Carol throws baseballs.'\n",
    "# 'Alice throws Apples.'\n",
    "# 'BOB EATS CATS.'\n",
    "\n",
    "# but not the following:\n",
    "\n",
    "# 'RoboCop eats apples.'\n",
    "# 'ALICE THROWS FOOTBALLS.'\n",
    "# 'Carol eats 7 cats.'\n",
    "\n",
    "re.compile(r'(Alice|Bob|Carol)\\s(eats|pets|throws)\\ s(apples|cats|baseballs)\\.', re.IGNORECASE)"
   ],
   "metadata": {
    "collapsed": false,
    "pycharm": {
     "name": "#%%\n"
    }
   }
  },
  {
   "cell_type": "code",
   "execution_count": null,
   "outputs": [],
   "source": [
    "\n"
   ],
   "metadata": {
    "collapsed": false,
    "pycharm": {
     "name": "#%%\n"
    }
   }
  }
 ],
 "metadata": {
  "kernelspec": {
   "display_name": "Python 3",
   "language": "python",
   "name": "python3"
  },
  "language_info": {
   "codemirror_mode": {
    "name": "ipython",
    "version": 2
   },
   "file_extension": ".py",
   "mimetype": "text/x-python",
   "name": "python",
   "nbconvert_exporter": "python",
   "pygments_lexer": "ipython2",
   "version": "2.7.6"
  }
 },
 "nbformat": 4,
 "nbformat_minor": 0
}