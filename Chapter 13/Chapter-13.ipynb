{
 "cells": [
  {
   "cell_type": "code",
   "execution_count": 2,
   "metadata": {
    "collapsed": true
   },
   "outputs": [
    {
     "data": {
      "text/plain": "19"
     },
     "execution_count": 2,
     "metadata": {},
     "output_type": "execute_result"
    }
   ],
   "source": [
    "import PyPDF2\n",
    "pdfFileObj = open('../data/meetingminutes.pdf', 'rb')\n",
    "pdfReader = PyPDF2.PdfFileReader(pdfFileObj)\n",
    "pdfReader.numPages"
   ]
  },
  {
   "cell_type": "code",
   "execution_count": 3,
   "outputs": [
    {
     "data": {
      "text/plain": "'OOFFFFIICCIIAALL  BBOOAARRDD  MMIINNUUTTEESS   Meeting of \\nMarch 7\\n, 2014\\n        \\n     The Board of Elementary and Secondary Education shall provide leadership and \\ncreate policies for education that expand opportunities for children, empower \\nfamilies and communities, and advance Louisiana in an increasingly \\ncompetitive glob\\nal market.\\n BOARD \\n of ELEMENTARY\\n and \\n SECONDARY\\n EDUCATION\\n  '"
     },
     "execution_count": 3,
     "metadata": {},
     "output_type": "execute_result"
    }
   ],
   "source": [
    "pageObj = pdfReader.getPage(0)\n",
    "pageObj.extractText()"
   ],
   "metadata": {
    "collapsed": false,
    "pycharm": {
     "name": "#%%\n"
    }
   }
  },
  {
   "cell_type": "code",
   "execution_count": 4,
   "outputs": [
    {
     "data": {
      "text/plain": "True"
     },
     "execution_count": 4,
     "metadata": {},
     "output_type": "execute_result"
    }
   ],
   "source": [
    "import PyPDF2\n",
    "pdfReader = PyPDF2.PdfFileReader(open('../data/encrypted.pdf', 'rb'))\n",
    "pdfReader.isEncrypted"
   ],
   "metadata": {
    "collapsed": false,
    "pycharm": {
     "name": "#%%\n"
    }
   }
  },
  {
   "cell_type": "code",
   "execution_count": 5,
   "outputs": [
    {
     "ename": "PdfReadError",
     "evalue": "file has not been decrypted",
     "output_type": "error",
     "traceback": [
      "\u001B[0;31m---------------------------------------------------------------------------\u001B[0m",
      "\u001B[0;31mPdfReadError\u001B[0m                              Traceback (most recent call last)",
      "\u001B[0;32m<ipython-input-5-3c2f4a4b6172>\u001B[0m in \u001B[0;36m<module>\u001B[0;34m\u001B[0m\n\u001B[0;32m----> 1\u001B[0;31m \u001B[0mpdfReader\u001B[0m\u001B[0;34m.\u001B[0m\u001B[0mgetPage\u001B[0m\u001B[0;34m(\u001B[0m\u001B[0;36m0\u001B[0m\u001B[0;34m)\u001B[0m\u001B[0;34m\u001B[0m\u001B[0;34m\u001B[0m\u001B[0m\n\u001B[0m\u001B[1;32m      2\u001B[0m \u001B[0;34m\u001B[0m\u001B[0m\n",
      "\u001B[0;32m~/Dokumenter/Programs/miniconda3/envs/AutomatetheBoringStuffwithPython-py38/lib/python3.8/site-packages/PyPDF2/pdf.py\u001B[0m in \u001B[0;36mgetPage\u001B[0;34m(self, pageNumber)\u001B[0m\n\u001B[1;32m   1174\u001B[0m         \u001B[0;31m#assert not self.trailer.has_key(\"/Encrypt\")\u001B[0m\u001B[0;34m\u001B[0m\u001B[0;34m\u001B[0m\u001B[0;34m\u001B[0m\u001B[0m\n\u001B[1;32m   1175\u001B[0m         \u001B[0;32mif\u001B[0m \u001B[0mself\u001B[0m\u001B[0;34m.\u001B[0m\u001B[0mflattenedPages\u001B[0m \u001B[0;34m==\u001B[0m \u001B[0;32mNone\u001B[0m\u001B[0;34m:\u001B[0m\u001B[0;34m\u001B[0m\u001B[0;34m\u001B[0m\u001B[0m\n\u001B[0;32m-> 1176\u001B[0;31m             \u001B[0mself\u001B[0m\u001B[0;34m.\u001B[0m\u001B[0m_flatten\u001B[0m\u001B[0;34m(\u001B[0m\u001B[0;34m)\u001B[0m\u001B[0;34m\u001B[0m\u001B[0;34m\u001B[0m\u001B[0m\n\u001B[0m\u001B[1;32m   1177\u001B[0m         \u001B[0;32mreturn\u001B[0m \u001B[0mself\u001B[0m\u001B[0;34m.\u001B[0m\u001B[0mflattenedPages\u001B[0m\u001B[0;34m[\u001B[0m\u001B[0mpageNumber\u001B[0m\u001B[0;34m]\u001B[0m\u001B[0;34m\u001B[0m\u001B[0;34m\u001B[0m\u001B[0m\n\u001B[1;32m   1178\u001B[0m \u001B[0;34m\u001B[0m\u001B[0m\n",
      "\u001B[0;32m~/Dokumenter/Programs/miniconda3/envs/AutomatetheBoringStuffwithPython-py38/lib/python3.8/site-packages/PyPDF2/pdf.py\u001B[0m in \u001B[0;36m_flatten\u001B[0;34m(self, pages, inherit, indirectRef)\u001B[0m\n\u001B[1;32m   1503\u001B[0m         \u001B[0;32mif\u001B[0m \u001B[0mpages\u001B[0m \u001B[0;34m==\u001B[0m \u001B[0;32mNone\u001B[0m\u001B[0;34m:\u001B[0m\u001B[0;34m\u001B[0m\u001B[0;34m\u001B[0m\u001B[0m\n\u001B[1;32m   1504\u001B[0m             \u001B[0mself\u001B[0m\u001B[0;34m.\u001B[0m\u001B[0mflattenedPages\u001B[0m \u001B[0;34m=\u001B[0m \u001B[0;34m[\u001B[0m\u001B[0;34m]\u001B[0m\u001B[0;34m\u001B[0m\u001B[0;34m\u001B[0m\u001B[0m\n\u001B[0;32m-> 1505\u001B[0;31m             \u001B[0mcatalog\u001B[0m \u001B[0;34m=\u001B[0m \u001B[0mself\u001B[0m\u001B[0;34m.\u001B[0m\u001B[0mtrailer\u001B[0m\u001B[0;34m[\u001B[0m\u001B[0;34m\"/Root\"\u001B[0m\u001B[0;34m]\u001B[0m\u001B[0;34m.\u001B[0m\u001B[0mgetObject\u001B[0m\u001B[0;34m(\u001B[0m\u001B[0;34m)\u001B[0m\u001B[0;34m\u001B[0m\u001B[0;34m\u001B[0m\u001B[0m\n\u001B[0m\u001B[1;32m   1506\u001B[0m             \u001B[0mpages\u001B[0m \u001B[0;34m=\u001B[0m \u001B[0mcatalog\u001B[0m\u001B[0;34m[\u001B[0m\u001B[0;34m\"/Pages\"\u001B[0m\u001B[0;34m]\u001B[0m\u001B[0;34m.\u001B[0m\u001B[0mgetObject\u001B[0m\u001B[0;34m(\u001B[0m\u001B[0;34m)\u001B[0m\u001B[0;34m\u001B[0m\u001B[0;34m\u001B[0m\u001B[0m\n\u001B[1;32m   1507\u001B[0m \u001B[0;34m\u001B[0m\u001B[0m\n",
      "\u001B[0;32m~/Dokumenter/Programs/miniconda3/envs/AutomatetheBoringStuffwithPython-py38/lib/python3.8/site-packages/PyPDF2/generic.py\u001B[0m in \u001B[0;36m__getitem__\u001B[0;34m(self, key)\u001B[0m\n\u001B[1;32m    514\u001B[0m \u001B[0;34m\u001B[0m\u001B[0m\n\u001B[1;32m    515\u001B[0m     \u001B[0;32mdef\u001B[0m \u001B[0m__getitem__\u001B[0m\u001B[0;34m(\u001B[0m\u001B[0mself\u001B[0m\u001B[0;34m,\u001B[0m \u001B[0mkey\u001B[0m\u001B[0;34m)\u001B[0m\u001B[0;34m:\u001B[0m\u001B[0;34m\u001B[0m\u001B[0;34m\u001B[0m\u001B[0m\n\u001B[0;32m--> 516\u001B[0;31m         \u001B[0;32mreturn\u001B[0m \u001B[0mdict\u001B[0m\u001B[0;34m.\u001B[0m\u001B[0m__getitem__\u001B[0m\u001B[0;34m(\u001B[0m\u001B[0mself\u001B[0m\u001B[0;34m,\u001B[0m \u001B[0mkey\u001B[0m\u001B[0;34m)\u001B[0m\u001B[0;34m.\u001B[0m\u001B[0mgetObject\u001B[0m\u001B[0;34m(\u001B[0m\u001B[0;34m)\u001B[0m\u001B[0;34m\u001B[0m\u001B[0;34m\u001B[0m\u001B[0m\n\u001B[0m\u001B[1;32m    517\u001B[0m \u001B[0;34m\u001B[0m\u001B[0m\n\u001B[1;32m    518\u001B[0m     \u001B[0;31m##\u001B[0m\u001B[0;34m\u001B[0m\u001B[0;34m\u001B[0m\u001B[0;34m\u001B[0m\u001B[0m\n",
      "\u001B[0;32m~/Dokumenter/Programs/miniconda3/envs/AutomatetheBoringStuffwithPython-py38/lib/python3.8/site-packages/PyPDF2/generic.py\u001B[0m in \u001B[0;36mgetObject\u001B[0;34m(self)\u001B[0m\n\u001B[1;32m    176\u001B[0m \u001B[0;34m\u001B[0m\u001B[0m\n\u001B[1;32m    177\u001B[0m     \u001B[0;32mdef\u001B[0m \u001B[0mgetObject\u001B[0m\u001B[0;34m(\u001B[0m\u001B[0mself\u001B[0m\u001B[0;34m)\u001B[0m\u001B[0;34m:\u001B[0m\u001B[0;34m\u001B[0m\u001B[0;34m\u001B[0m\u001B[0m\n\u001B[0;32m--> 178\u001B[0;31m         \u001B[0;32mreturn\u001B[0m \u001B[0mself\u001B[0m\u001B[0;34m.\u001B[0m\u001B[0mpdf\u001B[0m\u001B[0;34m.\u001B[0m\u001B[0mgetObject\u001B[0m\u001B[0;34m(\u001B[0m\u001B[0mself\u001B[0m\u001B[0;34m)\u001B[0m\u001B[0;34m.\u001B[0m\u001B[0mgetObject\u001B[0m\u001B[0;34m(\u001B[0m\u001B[0;34m)\u001B[0m\u001B[0;34m\u001B[0m\u001B[0;34m\u001B[0m\u001B[0m\n\u001B[0m\u001B[1;32m    179\u001B[0m \u001B[0;34m\u001B[0m\u001B[0m\n\u001B[1;32m    180\u001B[0m     \u001B[0;32mdef\u001B[0m \u001B[0m__repr__\u001B[0m\u001B[0;34m(\u001B[0m\u001B[0mself\u001B[0m\u001B[0;34m)\u001B[0m\u001B[0;34m:\u001B[0m\u001B[0;34m\u001B[0m\u001B[0;34m\u001B[0m\u001B[0m\n",
      "\u001B[0;32m~/Dokumenter/Programs/miniconda3/envs/AutomatetheBoringStuffwithPython-py38/lib/python3.8/site-packages/PyPDF2/pdf.py\u001B[0m in \u001B[0;36mgetObject\u001B[0;34m(self, indirectReference)\u001B[0m\n\u001B[1;32m   1615\u001B[0m                 \u001B[0;31m# if we don't have the encryption key:\u001B[0m\u001B[0;34m\u001B[0m\u001B[0;34m\u001B[0m\u001B[0;34m\u001B[0m\u001B[0m\n\u001B[1;32m   1616\u001B[0m                 \u001B[0;32mif\u001B[0m \u001B[0;32mnot\u001B[0m \u001B[0mhasattr\u001B[0m\u001B[0;34m(\u001B[0m\u001B[0mself\u001B[0m\u001B[0;34m,\u001B[0m \u001B[0;34m'_decryption_key'\u001B[0m\u001B[0;34m)\u001B[0m\u001B[0;34m:\u001B[0m\u001B[0;34m\u001B[0m\u001B[0;34m\u001B[0m\u001B[0m\n\u001B[0;32m-> 1617\u001B[0;31m                     \u001B[0;32mraise\u001B[0m \u001B[0mutils\u001B[0m\u001B[0;34m.\u001B[0m\u001B[0mPdfReadError\u001B[0m\u001B[0;34m(\u001B[0m\u001B[0;34m\"file has not been decrypted\"\u001B[0m\u001B[0;34m)\u001B[0m\u001B[0;34m\u001B[0m\u001B[0;34m\u001B[0m\u001B[0m\n\u001B[0m\u001B[1;32m   1618\u001B[0m                 \u001B[0;31m# otherwise, decrypt here...\u001B[0m\u001B[0;34m\u001B[0m\u001B[0;34m\u001B[0m\u001B[0;34m\u001B[0m\u001B[0m\n\u001B[1;32m   1619\u001B[0m                 \u001B[0;32mimport\u001B[0m \u001B[0mstruct\u001B[0m\u001B[0;34m\u001B[0m\u001B[0;34m\u001B[0m\u001B[0m\n",
      "\u001B[0;31mPdfReadError\u001B[0m: file has not been decrypted"
     ]
    }
   ],
   "source": [
    "pdfReader.getPage(0)"
   ],
   "metadata": {
    "collapsed": false,
    "pycharm": {
     "name": "#%%\n"
    }
   }
  },
  {
   "cell_type": "code",
   "execution_count": 6,
   "outputs": [
    {
     "data": {
      "text/plain": "1"
     },
     "execution_count": 6,
     "metadata": {},
     "output_type": "execute_result"
    }
   ],
   "source": [
    "pdfReader.decrypt('rosebud')"
   ],
   "metadata": {
    "collapsed": false,
    "pycharm": {
     "name": "#%%\n"
    }
   }
  },
  {
   "cell_type": "code",
   "execution_count": 7,
   "outputs": [
    {
     "ename": "IndexError",
     "evalue": "list index out of range",
     "output_type": "error",
     "traceback": [
      "\u001B[0;31m---------------------------------------------------------------------------\u001B[0m",
      "\u001B[0;31mIndexError\u001B[0m                                Traceback (most recent call last)",
      "\u001B[0;32m<ipython-input-7-151635b4d975>\u001B[0m in \u001B[0;36m<module>\u001B[0;34m\u001B[0m\n\u001B[0;32m----> 1\u001B[0;31m \u001B[0mpageObj\u001B[0m \u001B[0;34m=\u001B[0m \u001B[0mpdfReader\u001B[0m\u001B[0;34m.\u001B[0m\u001B[0mgetPage\u001B[0m\u001B[0;34m(\u001B[0m\u001B[0;36m0\u001B[0m\u001B[0;34m)\u001B[0m\u001B[0;34m\u001B[0m\u001B[0;34m\u001B[0m\u001B[0m\n\u001B[0m\u001B[1;32m      2\u001B[0m \u001B[0;34m\u001B[0m\u001B[0m\n",
      "\u001B[0;32m~/Dokumenter/Programs/miniconda3/envs/AutomatetheBoringStuffwithPython-py38/lib/python3.8/site-packages/PyPDF2/pdf.py\u001B[0m in \u001B[0;36mgetPage\u001B[0;34m(self, pageNumber)\u001B[0m\n\u001B[1;32m   1175\u001B[0m         \u001B[0;32mif\u001B[0m \u001B[0mself\u001B[0m\u001B[0;34m.\u001B[0m\u001B[0mflattenedPages\u001B[0m \u001B[0;34m==\u001B[0m \u001B[0;32mNone\u001B[0m\u001B[0;34m:\u001B[0m\u001B[0;34m\u001B[0m\u001B[0;34m\u001B[0m\u001B[0m\n\u001B[1;32m   1176\u001B[0m             \u001B[0mself\u001B[0m\u001B[0;34m.\u001B[0m\u001B[0m_flatten\u001B[0m\u001B[0;34m(\u001B[0m\u001B[0;34m)\u001B[0m\u001B[0;34m\u001B[0m\u001B[0;34m\u001B[0m\u001B[0m\n\u001B[0;32m-> 1177\u001B[0;31m         \u001B[0;32mreturn\u001B[0m \u001B[0mself\u001B[0m\u001B[0;34m.\u001B[0m\u001B[0mflattenedPages\u001B[0m\u001B[0;34m[\u001B[0m\u001B[0mpageNumber\u001B[0m\u001B[0;34m]\u001B[0m\u001B[0;34m\u001B[0m\u001B[0;34m\u001B[0m\u001B[0m\n\u001B[0m\u001B[1;32m   1178\u001B[0m \u001B[0;34m\u001B[0m\u001B[0m\n\u001B[1;32m   1179\u001B[0m     namedDestinations = property(lambda self:\n",
      "\u001B[0;31mIndexError\u001B[0m: list index out of range"
     ]
    }
   ],
   "source": [
    "pageObj = pdfReader.getPage(0)"
   ],
   "metadata": {
    "collapsed": false,
    "pycharm": {
     "name": "#%%\n"
    }
   }
  },
  {
   "cell_type": "code",
   "execution_count": 8,
   "outputs": [],
   "source": [
    "import PyPDF2\n",
    "pdf1File = open('../data/meetingminutes.pdf', 'rb')\n",
    "pdf2File = open('../data/meetingminutes2.pdf', 'rb')\n",
    "pdf1Reader = PyPDF2.PdfFileReader(pdf1File)\n",
    "pdf2Reader = PyPDF2.PdfFileReader(pdf2File)\n",
    "pdfWriter = PyPDF2.PdfFileWriter()"
   ],
   "metadata": {
    "collapsed": false,
    "pycharm": {
     "name": "#%%\n"
    }
   }
  },
  {
   "cell_type": "code",
   "execution_count": 9,
   "outputs": [],
   "source": [
    "for pageNum in range(pdf1Reader.numPages):\n",
    "    pageObj = pdf1Reader.getPage(pageNum)\n",
    "    pdfWriter.addPage(pageObj)"
   ],
   "metadata": {
    "collapsed": false,
    "pycharm": {
     "name": "#%%\n"
    }
   }
  },
  {
   "cell_type": "code",
   "execution_count": 10,
   "outputs": [],
   "source": [
    "for pageNum in range(pdf2Reader.numPages):\n",
    "    pageObj = pdf2Reader.getPage(pageNum)\n",
    "    pdfWriter.addPage(pageObj)"
   ],
   "metadata": {
    "collapsed": false,
    "pycharm": {
     "name": "#%%\n"
    }
   }
  },
  {
   "cell_type": "code",
   "execution_count": 11,
   "outputs": [],
   "source": [
    "pdfOutputFile = open('../data/combinedminutes.pdf', 'wb')\n",
    "pdfWriter.write(pdfOutputFile)\n",
    "pdfOutputFile.close()\n",
    "pdf1File.close()\n",
    "pdf2File.close()"
   ],
   "metadata": {
    "collapsed": false,
    "pycharm": {
     "name": "#%%\n"
    }
   }
  },
  {
   "cell_type": "code",
   "execution_count": 12,
   "outputs": [
    {
     "data": {
      "text/plain": "{'/Contents': [IndirectObject(961, 0),\n  IndirectObject(962, 0),\n  IndirectObject(963, 0),\n  IndirectObject(964, 0),\n  IndirectObject(965, 0),\n  IndirectObject(966, 0),\n  IndirectObject(967, 0),\n  IndirectObject(968, 0)],\n '/CropBox': [0, 0, 612, 792],\n '/MediaBox': [0, 0, 612, 792],\n '/Parent': {'/Count': 9,\n  '/Kids': [IndirectObject(959, 0),\n   IndirectObject(1, 0),\n   IndirectObject(11, 0),\n   IndirectObject(13, 0),\n   IndirectObject(15, 0),\n   IndirectObject(17, 0),\n   IndirectObject(19, 0),\n   IndirectObject(24, 0),\n   IndirectObject(26, 0)],\n  '/Parent': {'/Count': 19,\n   '/Kids': [IndirectObject(953, 0),\n    IndirectObject(954, 0),\n    IndirectObject(955, 0)],\n   '/Type': '/Pages'},\n  '/Type': '/Pages'},\n '/Resources': {'/ColorSpace': {'/CS0': ['/ICCBased', IndirectObject(969, 0)],\n   '/CS1': ['/ICCBased', IndirectObject(970, 0)],\n   '/CS2': ['/ICCBased', IndirectObject(970, 0)]},\n  '/ExtGState': {'/GS0': {'/AIS': <PyPDF2.generic.BooleanObject at 0x7f5f85ef83a0>,\n    '/BM': '/Normal',\n    '/CA': 1,\n    '/OP': <PyPDF2.generic.BooleanObject at 0x7f5f85ef88b0>,\n    '/OPM': 1,\n    '/SA': <PyPDF2.generic.BooleanObject at 0x7f5f85ef8880>,\n    '/SMask': '/None',\n    '/Type': '/ExtGState',\n    '/ca': 1,\n    '/op': <PyPDF2.generic.BooleanObject at 0x7f5f85ef8550>}},\n  '/Font': {'/TT0': {'/BaseFont': '/Arial-Black',\n    '/Encoding': '/WinAnsiEncoding',\n    '/FirstChar': 0,\n    '/FontDescriptor': {'/Ascent': 1083,\n     '/CapHeight': 716,\n     '/Descent': -307,\n     '/Flags': 32,\n     '/FontBBox': [-194, -307, 1688, 1083],\n     '/FontFamily': 'Arial Black',\n     '/FontName': '/Arial-Black',\n     '/FontStretch': '/Normal',\n     '/FontWeight': 900,\n     '/ItalicAngle': 0,\n     '/StemV': 200,\n     '/Type': '/FontDescriptor',\n     '/XHeight': 519},\n    '/LastChar': 255,\n    '/Subtype': '/TrueType',\n    '/Type': '/Font',\n    '/Widths': [750,\n     333,\n     333,\n     333,\n     333,\n     333,\n     333,\n     333,\n     333,\n     333,\n     333,\n     333,\n     333,\n     333,\n     333,\n     333,\n     333,\n     333,\n     333,\n     333,\n     333,\n     333,\n     333,\n     333,\n     333,\n     333,\n     333,\n     333,\n     333,\n     333,\n     333,\n     333,\n     333,\n     333,\n     500,\n     660,\n     667,\n     1000,\n     889,\n     278,\n     389,\n     389,\n     556,\n     660,\n     333,\n     333,\n     333,\n     278,\n     667,\n     667,\n     667,\n     667,\n     667,\n     667,\n     667,\n     667,\n     667,\n     667,\n     333,\n     333,\n     660,\n     660,\n     660,\n     611,\n     740,\n     778,\n     778,\n     778,\n     778,\n     722,\n     667,\n     833,\n     833,\n     389,\n     667,\n     833,\n     667,\n     944,\n     833,\n     833,\n     722,\n     833,\n     778,\n     722,\n     722,\n     833,\n     778,\n     1000,\n     778,\n     778,\n     722,\n     389,\n     278,\n     389,\n     660,\n     500,\n     333,\n     667,\n     667,\n     667,\n     667,\n     667,\n     389,\n     667,\n     667,\n     333,\n     333,\n     667,\n     333,\n     1000,\n     667,\n     667,\n     667,\n     667,\n     444,\n     611,\n     444,\n     667,\n     611,\n     944,\n     667,\n     611,\n     556,\n     389,\n     278,\n     389,\n     660,\n     500,\n     667,\n     500,\n     278,\n     667,\n     500,\n     1000,\n     667,\n     667,\n     333,\n     1000,\n     722,\n     333,\n     1000,\n     500,\n     722,\n     500,\n     500,\n     278,\n     278,\n     500,\n     500,\n     500,\n     500,\n     1000,\n     333,\n     950,\n     611,\n     333,\n     1000,\n     500,\n     556,\n     778,\n     333,\n     333,\n     667,\n     667,\n     660,\n     667,\n     278,\n     667,\n     333,\n     800,\n     400,\n     667,\n     660,\n     333,\n     800,\n     500,\n     400,\n     660,\n     400,\n     400,\n     333,\n     667,\n     850,\n     333,\n     333,\n     400,\n     400,\n     667,\n     1000,\n     1000,\n     1000,\n     611,\n     778,\n     778,\n     778,\n     778,\n     778,\n     778,\n     1000,\n     778,\n     722,\n     722,\n     722,\n     722,\n     389,\n     389,\n     389,\n     389,\n     778,\n     833,\n     833,\n     833,\n     833,\n     833,\n     833,\n     660,\n     833,\n     833,\n     833,\n     833,\n     833,\n     778,\n     722,\n     667,\n     667,\n     667,\n     667,\n     667,\n     667,\n     667,\n     1000,\n     667,\n     667,\n     667,\n     667,\n     667,\n     333,\n     333,\n     333,\n     333,\n     667,\n     667,\n     667,\n     667,\n     667,\n     667,\n     667,\n     660,\n     667,\n     667,\n     667,\n     667,\n     667,\n     611,\n     667,\n     611]},\n   '/TT1': {'/BaseFont': '/ArialMT',\n    '/Encoding': '/WinAnsiEncoding',\n    '/FirstChar': 0,\n    '/FontDescriptor': {'/Ascent': 1006,\n     '/CapHeight': 716,\n     '/Descent': -325,\n     '/Flags': 32,\n     '/FontBBox': [-665, -325, 2000, 1006],\n     '/FontFamily': 'Arial',\n     '/FontName': '/ArialMT',\n     '/FontStretch': '/Normal',\n     '/FontWeight': 400,\n     '/ItalicAngle': 0,\n     '/StemV': 88,\n     '/Type': '/FontDescriptor',\n     '/XHeight': 519},\n    '/LastChar': 255,\n    '/Subtype': '/TrueType',\n    '/Type': '/Font',\n    '/Widths': [750,\n     750,\n     750,\n     750,\n     750,\n     750,\n     750,\n     750,\n     750,\n     750,\n     750,\n     750,\n     750,\n     750,\n     750,\n     750,\n     750,\n     750,\n     750,\n     750,\n     750,\n     750,\n     750,\n     750,\n     750,\n     750,\n     750,\n     750,\n     750,\n     750,\n     750,\n     750,\n     278,\n     278,\n     355,\n     556,\n     556,\n     889,\n     667,\n     191,\n     333,\n     333,\n     389,\n     584,\n     278,\n     333,\n     278,\n     278,\n     556,\n     556,\n     556,\n     556,\n     556,\n     556,\n     556,\n     556,\n     556,\n     556,\n     278,\n     278,\n     584,\n     584,\n     584,\n     556,\n     1015,\n     667,\n     667,\n     722,\n     722,\n     667,\n     611,\n     778,\n     722,\n     278,\n     500,\n     667,\n     556,\n     833,\n     722,\n     778,\n     667,\n     778,\n     722,\n     667,\n     611,\n     722,\n     667,\n     944,\n     667,\n     667,\n     611,\n     278,\n     278,\n     278,\n     469,\n     556,\n     333,\n     556,\n     556,\n     500,\n     556,\n     556,\n     278,\n     556,\n     556,\n     222,\n     222,\n     500,\n     222,\n     833,\n     556,\n     556,\n     556,\n     556,\n     333,\n     500,\n     278,\n     556,\n     500,\n     722,\n     500,\n     500,\n     500,\n     334,\n     260,\n     334,\n     584,\n     350,\n     556,\n     350,\n     222,\n     556,\n     333,\n     1000,\n     556,\n     556,\n     333,\n     1000,\n     667,\n     333,\n     1000,\n     350,\n     611,\n     350,\n     350,\n     222,\n     222,\n     333,\n     333,\n     350,\n     556,\n     1000,\n     333,\n     1000,\n     500,\n     333,\n     944,\n     350,\n     500,\n     667,\n     278,\n     333,\n     556,\n     556,\n     556,\n     556,\n     260,\n     556,\n     333,\n     737,\n     370,\n     556,\n     584,\n     333,\n     737,\n     552,\n     400,\n     549,\n     333,\n     333,\n     333,\n     576,\n     537,\n     333,\n     333,\n     333,\n     365,\n     556,\n     834,\n     834,\n     834,\n     611,\n     667,\n     667,\n     667,\n     667,\n     667,\n     667,\n     1000,\n     722,\n     667,\n     667,\n     667,\n     667,\n     278,\n     278,\n     278,\n     278,\n     722,\n     722,\n     778,\n     778,\n     778,\n     778,\n     778,\n     584,\n     778,\n     722,\n     722,\n     722,\n     722,\n     667,\n     667,\n     611,\n     556,\n     556,\n     556,\n     556,\n     556,\n     556,\n     889,\n     500,\n     556,\n     556,\n     556,\n     556,\n     278,\n     278,\n     278,\n     278,\n     556,\n     556,\n     556,\n     556,\n     556,\n     556,\n     556,\n     549,\n     611,\n     556,\n     556,\n     556,\n     556,\n     500,\n     556,\n     500]},\n   '/TT2': {'/BaseFont': '/Tahoma-Bold',\n    '/Encoding': '/WinAnsiEncoding',\n    '/FirstChar': 0,\n    '/FontDescriptor': {'/Ascent': 1065,\n     '/CapHeight': 727,\n     '/Descent': -216,\n     '/Flags': 32,\n     '/FontBBox': [-698, -216, 1625, 1065],\n     '/FontFamily': 'Tahoma',\n     '/FontName': '/Tahoma-Bold',\n     '/FontStretch': '/Normal',\n     '/FontWeight': 700,\n     '/ItalicAngle': 0,\n     '/StemV': 172,\n     '/Type': '/FontDescriptor',\n     '/XHeight': 548},\n    '/LastChar': 255,\n    '/Subtype': '/TrueType',\n    '/Type': '/Font',\n    '/Widths': [1000,\n     1000,\n     1000,\n     1000,\n     1000,\n     1000,\n     1000,\n     1000,\n     1000,\n     1000,\n     1000,\n     1000,\n     1000,\n     1000,\n     1000,\n     1000,\n     1000,\n     1000,\n     1000,\n     1000,\n     1000,\n     1000,\n     1000,\n     1000,\n     1000,\n     1000,\n     1000,\n     1000,\n     1000,\n     1000,\n     1000,\n     1000,\n     293,\n     343,\n     489,\n     818,\n     637,\n     1199,\n     781,\n     275,\n     454,\n     454,\n     637,\n     818,\n     313,\n     431,\n     313,\n     577,\n     637,\n     637,\n     637,\n     637,\n     637,\n     637,\n     637,\n     637,\n     637,\n     637,\n     363,\n     363,\n     818,\n     818,\n     818,\n     566,\n     920,\n     685,\n     686,\n     667,\n     757,\n     615,\n     581,\n     745,\n     764,\n     483,\n     500,\n     696,\n     572,\n     893,\n     771,\n     770,\n     657,\n     770,\n     726,\n     633,\n     612,\n     739,\n     675,\n     1028,\n     685,\n     670,\n     623,\n     454,\n     577,\n     454,\n     818,\n     637,\n     546,\n     599,\n     632,\n     527,\n     629,\n     594,\n     382,\n     629,\n     640,\n     302,\n     363,\n     603,\n     302,\n     954,\n     640,\n     617,\n     629,\n     629,\n     434,\n     515,\n     416,\n     640,\n     579,\n     890,\n     604,\n     576,\n     526,\n     623,\n     637,\n     623,\n     818,\n     637,\n     637,\n     637,\n     275,\n     637,\n     489,\n     1000,\n     637,\n     637,\n     546,\n     1676,\n     633,\n     425,\n     1037,\n     637,\n     623,\n     637,\n     637,\n     275,\n     275,\n     489,\n     489,\n     637,\n     637,\n     909,\n     546,\n     861,\n     515,\n     425,\n     985,\n     637,\n     526,\n     670,\n     293,\n     343,\n     637,\n     637,\n     637,\n     637,\n     637,\n     637,\n     546,\n     929,\n     508,\n     703,\n     818,\n     431,\n     929,\n     637,\n     520,\n     818,\n     539,\n     539,\n     546,\n     651,\n     637,\n     363,\n     546,\n     539,\n     539,\n     703,\n     1128,\n     1128,\n     1128,\n     566,\n     685,\n     685,\n     685,\n     685,\n     685,\n     685,\n     989,\n     667,\n     615,\n     615,\n     615,\n     615,\n     483,\n     483,\n     483,\n     483,\n     774,\n     771,\n     770,\n     770,\n     770,\n     770,\n     770,\n     818,\n     770,\n     739,\n     739,\n     739,\n     739,\n     670,\n     659,\n     646,\n     599,\n     599,\n     599,\n     599,\n     599,\n     599,\n     937,\n     527,\n     594,\n     594,\n     594,\n     594,\n     302,\n     302,\n     302,\n     302,\n     620,\n     640,\n     617,\n     617,\n     617,\n     617,\n     617,\n     818,\n     617,\n     640,\n     640,\n     640,\n     640,\n     576,\n     629,\n     576]},\n   '/TT3': {'/BaseFont': '/Arial-BoldMT',\n    '/Encoding': '/WinAnsiEncoding',\n    '/FirstChar': 0,\n    '/FontDescriptor': {'/Ascent': 1018,\n     '/CapHeight': 716,\n     '/Descent': -376,\n     '/Flags': 32,\n     '/FontBBox': [-628, -376, 2000, 1018],\n     '/FontFamily': 'Arial',\n     '/FontName': '/Arial-BoldMT',\n     '/FontStretch': '/Normal',\n     '/FontWeight': 700,\n     '/ItalicAngle': 0,\n     '/StemV': 136,\n     '/Type': '/FontDescriptor',\n     '/XHeight': 519},\n    '/LastChar': 255,\n    '/Subtype': '/TrueType',\n    '/Type': '/Font',\n    '/Widths': [750,\n     750,\n     750,\n     750,\n     750,\n     750,\n     750,\n     750,\n     750,\n     750,\n     750,\n     750,\n     750,\n     750,\n     750,\n     750,\n     750,\n     750,\n     750,\n     750,\n     750,\n     750,\n     750,\n     750,\n     750,\n     750,\n     750,\n     750,\n     750,\n     750,\n     750,\n     750,\n     278,\n     333,\n     474,\n     556,\n     556,\n     889,\n     722,\n     238,\n     333,\n     333,\n     389,\n     584,\n     278,\n     333,\n     278,\n     278,\n     556,\n     556,\n     556,\n     556,\n     556,\n     556,\n     556,\n     556,\n     556,\n     556,\n     333,\n     333,\n     584,\n     584,\n     584,\n     611,\n     975,\n     722,\n     722,\n     722,\n     722,\n     667,\n     611,\n     778,\n     722,\n     278,\n     556,\n     722,\n     611,\n     833,\n     722,\n     778,\n     667,\n     778,\n     722,\n     667,\n     611,\n     722,\n     667,\n     944,\n     667,\n     667,\n     611,\n     333,\n     278,\n     333,\n     584,\n     556,\n     333,\n     556,\n     611,\n     556,\n     611,\n     556,\n     333,\n     611,\n     611,\n     278,\n     278,\n     556,\n     278,\n     889,\n     611,\n     611,\n     611,\n     611,\n     389,\n     556,\n     333,\n     611,\n     556,\n     778,\n     556,\n     556,\n     500,\n     389,\n     280,\n     389,\n     584,\n     350,\n     556,\n     350,\n     278,\n     556,\n     500,\n     1000,\n     556,\n     556,\n     333,\n     1000,\n     667,\n     333,\n     1000,\n     350,\n     611,\n     350,\n     350,\n     278,\n     278,\n     500,\n     500,\n     350,\n     556,\n     1000,\n     333,\n     1000,\n     556,\n     333,\n     944,\n     350,\n     500,\n     667,\n     278,\n     333,\n     556,\n     556,\n     556,\n     556,\n     280,\n     556,\n     333,\n     737,\n     370,\n     556,\n     584,\n     333,\n     737,\n     552,\n     400,\n     549,\n     333,\n     333,\n     333,\n     576,\n     556,\n     333,\n     333,\n     333,\n     365,\n     556,\n     834,\n     834,\n     834,\n     611,\n     722,\n     722,\n     722,\n     722,\n     722,\n     722,\n     1000,\n     722,\n     667,\n     667,\n     667,\n     667,\n     278,\n     278,\n     278,\n     278,\n     722,\n     722,\n     778,\n     778,\n     778,\n     778,\n     778,\n     584,\n     778,\n     722,\n     722,\n     722,\n     722,\n     667,\n     667,\n     611,\n     556,\n     556,\n     556,\n     556,\n     556,\n     556,\n     889,\n     556,\n     556,\n     556,\n     556,\n     556,\n     278,\n     278,\n     278,\n     278,\n     611,\n     611,\n     611,\n     611,\n     611,\n     611,\n     611,\n     549,\n     611,\n     611,\n     611,\n     611,\n     611,\n     556,\n     611,\n     556]},\n   '/TT4': {'/BaseFont': '/TimesNewRomanPSMT',\n    '/Encoding': '/WinAnsiEncoding',\n    '/FirstChar': 0,\n    '/FontDescriptor': {'/Ascent': 1007,\n     '/CapHeight': 662,\n     '/Descent': -307,\n     '/Flags': 34,\n     '/FontBBox': [-568, -307, 2000, 1007],\n     '/FontFamily': 'Times New Roman',\n     '/FontName': '/TimesNewRomanPSMT',\n     '/FontStretch': '/Normal',\n     '/FontWeight': 400,\n     '/ItalicAngle': 0,\n     '/StemV': 80,\n     '/Type': '/FontDescriptor',\n     '/XHeight': 448},\n    '/LastChar': 255,\n    '/Subtype': '/TrueType',\n    '/Type': '/Font',\n    '/Widths': [778,\n     778,\n     778,\n     778,\n     778,\n     778,\n     778,\n     778,\n     778,\n     778,\n     778,\n     778,\n     778,\n     778,\n     778,\n     778,\n     778,\n     778,\n     778,\n     778,\n     778,\n     778,\n     778,\n     778,\n     778,\n     778,\n     778,\n     778,\n     778,\n     778,\n     778,\n     778,\n     250,\n     333,\n     408,\n     500,\n     500,\n     833,\n     778,\n     180,\n     333,\n     333,\n     500,\n     564,\n     250,\n     333,\n     250,\n     278,\n     500,\n     500,\n     500,\n     500,\n     500,\n     500,\n     500,\n     500,\n     500,\n     500,\n     278,\n     278,\n     564,\n     564,\n     564,\n     444,\n     921,\n     722,\n     667,\n     667,\n     722,\n     611,\n     556,\n     722,\n     722,\n     333,\n     389,\n     722,\n     611,\n     889,\n     722,\n     722,\n     556,\n     722,\n     667,\n     556,\n     611,\n     722,\n     722,\n     944,\n     722,\n     722,\n     611,\n     333,\n     278,\n     333,\n     469,\n     500,\n     333,\n     444,\n     500,\n     444,\n     500,\n     444,\n     333,\n     500,\n     500,\n     278,\n     278,\n     500,\n     278,\n     778,\n     500,\n     500,\n     500,\n     500,\n     333,\n     389,\n     278,\n     500,\n     500,\n     722,\n     500,\n     500,\n     444,\n     480,\n     200,\n     480,\n     541,\n     350,\n     500,\n     350,\n     333,\n     500,\n     444,\n     1000,\n     500,\n     500,\n     333,\n     1000,\n     556,\n     333,\n     889,\n     350,\n     611,\n     350,\n     350,\n     333,\n     333,\n     444,\n     444,\n     350,\n     500,\n     1000,\n     333,\n     980,\n     389,\n     333,\n     722,\n     350,\n     444,\n     722,\n     250,\n     333,\n     500,\n     500,\n     500,\n     500,\n     200,\n     500,\n     333,\n     760,\n     276,\n     500,\n     564,\n     333,\n     760,\n     500,\n     400,\n     549,\n     300,\n     300,\n     333,\n     576,\n     453,\n     333,\n     333,\n     300,\n     310,\n     500,\n     750,\n     750,\n     750,\n     444,\n     722,\n     722,\n     722,\n     722,\n     722,\n     722,\n     889,\n     667,\n     611,\n     611,\n     611,\n     611,\n     333,\n     333,\n     333,\n     333,\n     722,\n     722,\n     722,\n     722,\n     722,\n     722,\n     722,\n     564,\n     722,\n     722,\n     722,\n     722,\n     722,\n     722,\n     556,\n     500,\n     444,\n     444,\n     444,\n     444,\n     444,\n     444,\n     667,\n     444,\n     444,\n     444,\n     444,\n     444,\n     278,\n     278,\n     278,\n     278,\n     500,\n     500,\n     500,\n     500,\n     500,\n     500,\n     500,\n     549,\n     500,\n     500,\n     500,\n     500,\n     500,\n     500,\n     500,\n     500]},\n   '/TT5': {'/BaseFont': '/ZNNWAA+LucidaCalligraphy-Italic',\n    '/Encoding': '/WinAnsiEncoding',\n    '/FirstChar': 32,\n    '/FontDescriptor': {'/Ascent': 958,\n     '/CapHeight': 741,\n     '/Descent': -325,\n     '/Flags': 98,\n     '/FontBBox': [-290, -325, 1287, 958],\n     '/FontFamily': 'Lucida Calligraphy',\n     '/FontFile2': {'/Filter': '/FlateDecode', '/Length1': 11512},\n     '/FontName': '/ZNNWAA+LucidaCalligraphy-Italic',\n     '/FontStretch': '/Normal',\n     '/FontWeight': 400,\n     '/ItalicAngle': -12,\n     '/StemV': 100,\n     '/Type': '/FontDescriptor',\n     '/XHeight': 541},\n    '/LastChar': 121,\n    '/Subtype': '/TrueType',\n    '/ToUnicode': {'/Filter': '/FlateDecode'},\n    '/Type': '/Font',\n    '/Widths': [332,\n     0,\n     0,\n     0,\n     0,\n     0,\n     0,\n     0,\n     0,\n     0,\n     0,\n     0,\n     283,\n     0,\n     283,\n     0,\n     0,\n     0,\n     0,\n     0,\n     0,\n     0,\n     0,\n     0,\n     0,\n     0,\n     0,\n     0,\n     0,\n     0,\n     0,\n     0,\n     0,\n     0,\n     786,\n     0,\n     0,\n     735,\n     0,\n     0,\n     0,\n     0,\n     0,\n     0,\n     669,\n     0,\n     0,\n     0,\n     0,\n     0,\n     0,\n     581,\n     715,\n     0,\n     0,\n     0,\n     0,\n     0,\n     0,\n     0,\n     0,\n     0,\n     0,\n     0,\n     0,\n     668,\n     615,\n     546,\n     668,\n     542,\n     409,\n     614,\n     664,\n     376,\n     0,\n     631,\n     339,\n     1024,\n     711,\n     583,\n     664,\n     0,\n     563,\n     451,\n     456,\n     697,\n     705,\n     945,\n     710,\n     693]}},\n  '/XObject': {'/Im0': {'/BitsPerComponent': 8,\n    '/ColorSpace': ['/ICCBased', IndirectObject(970, 0)],\n    '/DecodeParms': {'/BitsPerComponent': 8, '/Colors': 3, '/Columns': 309},\n    '/Filter': '/FlateDecode',\n    '/Height': 309,\n    '/Name': '/X',\n    '/Subtype': '/Image',\n    '/Type': '/XObject',\n    '/Width': 309}}},\n '/Rotate': 90,\n '/StructParents': 0,\n '/Type': '/Page'}"
     },
     "execution_count": 12,
     "metadata": {},
     "output_type": "execute_result"
    }
   ],
   "source": [
    "import PyPDF2\n",
    "minutesFile = open('../data/meetingminutes.pdf', 'rb')\n",
    "pdfReader = PyPDF2.PdfFileReader(minutesFile)\n",
    "page = pdfReader.getPage(0)\n",
    "page.rotateClockwise(90)"
   ],
   "metadata": {
    "collapsed": false,
    "pycharm": {
     "name": "#%%\n"
    }
   }
  },
  {
   "cell_type": "code",
   "execution_count": 13,
   "outputs": [],
   "source": [
    "pdfWriter = PyPDF2.PdfFileWriter()\n",
    "pdfWriter.addPage(page)\n",
    "resultPdfFile = open('../data/rotatedPage.pdf', 'wb')\n",
    "pdfWriter.write(resultPdfFile)\n",
    "resultPdfFile.close()\n",
    "minutesFile.close()"
   ],
   "metadata": {
    "collapsed": false,
    "pycharm": {
     "name": "#%%\n"
    }
   }
  },
  {
   "cell_type": "code",
   "execution_count": 14,
   "outputs": [],
   "source": [
    "import PyPDF2\n",
    "minutesFile = open('../data/meetingminutes.pdf', 'rb')\n",
    "pdfReader = PyPDF2.PdfFileReader(minutesFile)\n",
    "minutesFirstPage = pdfReader.getPage(0)\n",
    "pdfWatermarkReader = PyPDF2.PdfFileReader(open('../data/watermark.pdf', 'rb'))\n",
    "minutesFirstPage.mergePage(pdfWatermarkReader.getPage(0))\n",
    "pdfWriter = PyPDF2.PdfFileWriter()\n",
    "pdfWriter.addPage(minutesFirstPage)"
   ],
   "metadata": {
    "collapsed": false,
    "pycharm": {
     "name": "#%%\n"
    }
   }
  },
  {
   "cell_type": "code",
   "execution_count": 15,
   "outputs": [],
   "source": [
    "for pageNum in range(1, pdfReader.numPages):\n",
    "    pageObj = pdfReader.getPage(pageNum)\n",
    "    pdfWriter.addPage(pageObj)\n",
    "resultPdfFile = open('../data/watermarkedCover.pdf', 'wb')\n",
    "pdfWriter.write(resultPdfFile)\n",
    "minutesFile.close()\n",
    "resultPdfFile.close()"
   ],
   "metadata": {
    "collapsed": false,
    "pycharm": {
     "name": "#%%\n"
    }
   }
  },
  {
   "cell_type": "code",
   "execution_count": 16,
   "outputs": [],
   "source": [
    "import PyPDF2\n",
    "pdfFile = open('../data/meetingminutes.pdf', 'rb')\n",
    "pdfReader = PyPDF2.PdfFileReader(pdfFile)\n",
    "pdfWriter = PyPDF2.PdfFileWriter()\n",
    "for pageNum in range(pdfReader.numPages):\n",
    "    pdfWriter.addPage(pdfReader.getPage(pageNum))"
   ],
   "metadata": {
    "collapsed": false,
    "pycharm": {
     "name": "#%%\n"
    }
   }
  },
  {
   "cell_type": "code",
   "execution_count": 17,
   "outputs": [],
   "source": [
    "pdfWriter.encrypt('swordfish')\n",
    "resultPdf = open('../data/encryptedminutes.pdf', 'wb')\n",
    "pdfWriter.write(resultPdf)\n",
    "resultPdf.close()"
   ],
   "metadata": {
    "collapsed": false,
    "pycharm": {
     "name": "#%%\n"
    }
   }
  },
  {
   "cell_type": "code",
   "execution_count": 18,
   "outputs": [
    {
     "data": {
      "text/plain": "7"
     },
     "execution_count": 18,
     "metadata": {},
     "output_type": "execute_result"
    }
   ],
   "source": [
    "import docx\n",
    "doc = docx.Document('../data/demo.docx')\n",
    "len(doc.paragraphs)"
   ],
   "metadata": {
    "collapsed": false,
    "pycharm": {
     "name": "#%%\n"
    }
   }
  },
  {
   "cell_type": "code",
   "execution_count": 19,
   "outputs": [
    {
     "data": {
      "text/plain": "'Document Title'"
     },
     "execution_count": 19,
     "metadata": {},
     "output_type": "execute_result"
    }
   ],
   "source": [
    "doc.paragraphs[0].text"
   ],
   "metadata": {
    "collapsed": false,
    "pycharm": {
     "name": "#%%\n"
    }
   }
  },
  {
   "cell_type": "code",
   "execution_count": 20,
   "outputs": [
    {
     "data": {
      "text/plain": "'A plain paragraph with some bold and some italic'"
     },
     "execution_count": 20,
     "metadata": {},
     "output_type": "execute_result"
    }
   ],
   "source": [
    "doc.paragraphs[1].text"
   ],
   "metadata": {
    "collapsed": false,
    "pycharm": {
     "name": "#%%\n"
    }
   }
  },
  {
   "cell_type": "code",
   "execution_count": 21,
   "outputs": [
    {
     "data": {
      "text/plain": "5"
     },
     "execution_count": 21,
     "metadata": {},
     "output_type": "execute_result"
    }
   ],
   "source": [
    "len(doc.paragraphs[1].runs)"
   ],
   "metadata": {
    "collapsed": false,
    "pycharm": {
     "name": "#%%\n"
    }
   }
  },
  {
   "cell_type": "code",
   "execution_count": 22,
   "outputs": [
    {
     "data": {
      "text/plain": "'A plain paragraph with'"
     },
     "execution_count": 22,
     "metadata": {},
     "output_type": "execute_result"
    }
   ],
   "source": [
    "doc.paragraphs[1].runs[0].text"
   ],
   "metadata": {
    "collapsed": false,
    "pycharm": {
     "name": "#%%\n"
    }
   }
  },
  {
   "cell_type": "code",
   "execution_count": 23,
   "outputs": [
    {
     "data": {
      "text/plain": "' some '"
     },
     "execution_count": 23,
     "metadata": {},
     "output_type": "execute_result"
    }
   ],
   "source": [
    "doc.paragraphs[1].runs[1].text"
   ],
   "metadata": {
    "collapsed": false,
    "pycharm": {
     "name": "#%%\n"
    }
   }
  },
  {
   "cell_type": "code",
   "execution_count": 24,
   "outputs": [
    {
     "data": {
      "text/plain": "'bold'"
     },
     "execution_count": 24,
     "metadata": {},
     "output_type": "execute_result"
    }
   ],
   "source": [
    "doc.paragraphs[1].runs[2].text"
   ],
   "metadata": {
    "collapsed": false,
    "pycharm": {
     "name": "#%%\n"
    }
   }
  },
  {
   "cell_type": "code",
   "execution_count": 25,
   "outputs": [
    {
     "data": {
      "text/plain": "' and some '"
     },
     "execution_count": 25,
     "metadata": {},
     "output_type": "execute_result"
    }
   ],
   "source": [
    "doc.paragraphs[1].runs[3].text"
   ],
   "metadata": {
    "collapsed": false,
    "pycharm": {
     "name": "#%%\n"
    }
   }
  },
  {
   "cell_type": "code",
   "execution_count": 26,
   "outputs": [
    {
     "name": "stdout",
     "output_type": "stream",
     "text": [
      "Document Title\n",
      "\n",
      "A plain paragraph with some bold and some italic\n",
      "\n",
      "Heading, level 1\n",
      "\n",
      "Intense quote\n",
      "\n",
      "first item in unordered list\n",
      "\n",
      "first item in ordered list\n",
      "\n",
      "\n",
      "\n"
     ]
    }
   ],
   "source": [
    "import readDocx\n",
    "print(readDocx.getText('../data/demo.docx'))"
   ],
   "metadata": {
    "collapsed": false,
    "pycharm": {
     "name": "#%%\n"
    }
   }
  },
  {
   "cell_type": "code",
   "execution_count": 27,
   "outputs": [
    {
     "data": {
      "text/plain": "'Document Title'"
     },
     "execution_count": 27,
     "metadata": {},
     "output_type": "execute_result"
    }
   ],
   "source": [
    "doc = docx.Document('../data/demo.docx')\n",
    "doc.paragraphs[0].text"
   ],
   "metadata": {
    "collapsed": false,
    "pycharm": {
     "name": "#%%\n"
    }
   }
  },
  {
   "cell_type": "code",
   "execution_count": 28,
   "outputs": [
    {
     "data": {
      "text/plain": "_ParagraphStyle('Title') id: 140048231147840"
     },
     "execution_count": 28,
     "metadata": {},
     "output_type": "execute_result"
    }
   ],
   "source": [
    "doc.paragraphs[0].style"
   ],
   "metadata": {
    "collapsed": false,
    "pycharm": {
     "name": "#%%\n"
    }
   }
  },
  {
   "cell_type": "code",
   "execution_count": 29,
   "outputs": [
    {
     "data": {
      "text/plain": "'A plain paragraph with some bold and some italic'"
     },
     "execution_count": 29,
     "metadata": {},
     "output_type": "execute_result"
    }
   ],
   "source": [
    "doc.paragraphs[0].style = 'Normal'\n",
    "doc.paragraphs[1].text"
   ],
   "metadata": {
    "collapsed": false,
    "pycharm": {
     "name": "#%%\n"
    }
   }
  },
  {
   "cell_type": "code",
   "execution_count": 30,
   "outputs": [
    {
     "data": {
      "text/plain": "('A plain paragraph with', ' some ', 'bold', ' and some ')"
     },
     "execution_count": 30,
     "metadata": {},
     "output_type": "execute_result"
    }
   ],
   "source": [
    "(doc.paragraphs[1].runs[0].text, doc.paragraphs[1].runs[1].text, doc.\n",
    "paragraphs[1].runs[2].text, doc.paragraphs[1].runs[3].text)"
   ],
   "metadata": {
    "collapsed": false,
    "pycharm": {
     "name": "#%%\n"
    }
   }
  },
  {
   "cell_type": "code",
   "execution_count": 31,
   "outputs": [
    {
     "name": "stderr",
     "output_type": "stream",
     "text": [
      "UserWarning: style lookup by style_id is deprecated. Use style name as key instead. [styles.py:139]\n"
     ]
    }
   ],
   "source": [
    "doc.paragraphs[1].runs[0].style = 'QuoteChar'\n",
    "doc.paragraphs[1].runs[1].underline = True\n",
    "doc.paragraphs[1].runs[3].underline = True\n",
    "doc.save('../data/restyled.docx')"
   ],
   "metadata": {
    "collapsed": false,
    "pycharm": {
     "name": "#%%\n"
    }
   }
  },
  {
   "cell_type": "code",
   "execution_count": 32,
   "outputs": [
    {
     "data": {
      "text/plain": "<docx.text.paragraph.Paragraph at 0x7f5f85135a60>"
     },
     "execution_count": 32,
     "metadata": {},
     "output_type": "execute_result"
    }
   ],
   "source": [
    "import docx\n",
    "doc = docx.Document()\n",
    "doc.add_paragraph('Hello world!')"
   ],
   "metadata": {
    "collapsed": false,
    "pycharm": {
     "name": "#%%\n"
    }
   }
  },
  {
   "cell_type": "code",
   "execution_count": 33,
   "outputs": [],
   "source": [
    "doc.save('../data/helloworld.docx')\n"
   ],
   "metadata": {
    "collapsed": false,
    "pycharm": {
     "name": "#%%\n"
    }
   }
  },
  {
   "cell_type": "code",
   "execution_count": 34,
   "outputs": [
    {
     "data": {
      "text/plain": "<docx.text.paragraph.Paragraph at 0x7f5f85d4fd30>"
     },
     "execution_count": 34,
     "metadata": {},
     "output_type": "execute_result"
    }
   ],
   "source": [
    "import docx\n",
    "doc = docx.Document()\n",
    "doc.add_paragraph('Hello world!')"
   ],
   "metadata": {
    "collapsed": false,
    "pycharm": {
     "name": "#%%\n"
    }
   }
  },
  {
   "cell_type": "code",
   "execution_count": 35,
   "outputs": [
    {
     "data": {
      "text/plain": "<docx.text.run.Run at 0x7f5f85115d60>"
     },
     "execution_count": 35,
     "metadata": {},
     "output_type": "execute_result"
    }
   ],
   "source": [
    "paraObj1 = doc.add_paragraph('This is a second paragraph.')\n",
    "paraObj2 = doc.add_paragraph('This is a yet another paragraph.')\n",
    "paraObj1.add_run(' This text is being added to the second paragraph.')"
   ],
   "metadata": {
    "collapsed": false,
    "pycharm": {
     "name": "#%%\n"
    }
   }
  },
  {
   "cell_type": "code",
   "execution_count": 36,
   "outputs": [],
   "source": [
    "doc.save('../data/multipleParagraphs.docx')"
   ],
   "metadata": {
    "collapsed": false,
    "pycharm": {
     "name": "#%%\n"
    }
   }
  },
  {
   "cell_type": "code",
   "execution_count": 37,
   "outputs": [
    {
     "data": {
      "text/plain": "<docx.text.paragraph.Paragraph at 0x7f5f85115b20>"
     },
     "execution_count": 37,
     "metadata": {},
     "output_type": "execute_result"
    }
   ],
   "source": [
    "doc.add_paragraph('Hello world!', 'Title')"
   ],
   "metadata": {
    "collapsed": false,
    "pycharm": {
     "name": "#%%\n"
    }
   }
  },
  {
   "cell_type": "code",
   "execution_count": 38,
   "outputs": [
    {
     "data": {
      "text/plain": "<docx.text.paragraph.Paragraph at 0x7f5f850e8040>"
     },
     "execution_count": 38,
     "metadata": {},
     "output_type": "execute_result"
    }
   ],
   "source": [
    "doc = docx.Document()\n",
    "doc.add_heading('Header 0', 0)"
   ],
   "metadata": {
    "collapsed": false,
    "pycharm": {
     "name": "#%%\n"
    }
   }
  },
  {
   "cell_type": "code",
   "execution_count": 39,
   "outputs": [
    {
     "data": {
      "text/plain": "<docx.text.paragraph.Paragraph at 0x7f5f850e8430>"
     },
     "execution_count": 39,
     "metadata": {},
     "output_type": "execute_result"
    }
   ],
   "source": [
    "doc.add_heading('Header 1', 1)"
   ],
   "metadata": {
    "collapsed": false,
    "pycharm": {
     "name": "#%%\n"
    }
   }
  },
  {
   "cell_type": "code",
   "execution_count": 40,
   "outputs": [
    {
     "data": {
      "text/plain": "<docx.text.paragraph.Paragraph at 0x7f5f850e86d0>"
     },
     "execution_count": 40,
     "metadata": {},
     "output_type": "execute_result"
    }
   ],
   "source": [
    "doc.add_heading('Header 2', 2)"
   ],
   "metadata": {
    "collapsed": false,
    "pycharm": {
     "name": "#%%\n"
    }
   }
  },
  {
   "cell_type": "code",
   "execution_count": 41,
   "outputs": [
    {
     "data": {
      "text/plain": "<docx.text.paragraph.Paragraph at 0x7f5f850e8400>"
     },
     "execution_count": 41,
     "metadata": {},
     "output_type": "execute_result"
    }
   ],
   "source": [
    "doc.add_heading('Header 3', 3)"
   ],
   "metadata": {
    "collapsed": false,
    "pycharm": {
     "name": "#%%\n"
    }
   }
  },
  {
   "cell_type": "code",
   "execution_count": 42,
   "outputs": [
    {
     "data": {
      "text/plain": "<docx.text.paragraph.Paragraph at 0x7f5f850e80d0>"
     },
     "execution_count": 42,
     "metadata": {},
     "output_type": "execute_result"
    }
   ],
   "source": [
    "doc.add_heading('Header 4', 4)"
   ],
   "metadata": {
    "collapsed": false,
    "pycharm": {
     "name": "#%%\n"
    }
   }
  },
  {
   "cell_type": "code",
   "execution_count": 43,
   "outputs": [],
   "source": [
    "doc.save('../data/headings.docx')"
   ],
   "metadata": {
    "collapsed": false,
    "pycharm": {
     "name": "#%%\n"
    }
   }
  },
  {
   "cell_type": "code",
   "execution_count": 44,
   "outputs": [
    {
     "data": {
      "text/plain": "<docx.text.paragraph.Paragraph at 0x7f5f850c64c0>"
     },
     "execution_count": 44,
     "metadata": {},
     "output_type": "execute_result"
    }
   ],
   "source": [
    "doc = docx.Document()\n",
    "doc.add_paragraph('This is on the first page!')"
   ],
   "metadata": {
    "collapsed": false,
    "pycharm": {
     "name": "#%%\n"
    }
   }
  },
  {
   "cell_type": "code",
   "execution_count": 46,
   "outputs": [
    {
     "data": {
      "text/plain": "<docx.text.paragraph.Paragraph at 0x7f5f85083550>"
     },
     "execution_count": 46,
     "metadata": {},
     "output_type": "execute_result"
    }
   ],
   "source": [
    "doc.paragraphs[0].runs[0].add_break(docx.text.run.WD_BREAK.PAGE)\n",
    "doc.add_paragraph('This is on the second page!')"
   ],
   "metadata": {
    "collapsed": false,
    "pycharm": {
     "name": "#%%\n"
    }
   }
  },
  {
   "cell_type": "code",
   "execution_count": 47,
   "outputs": [
    {
     "data": {
      "text/plain": "<docx.shape.InlineShape at 0x7f5f851003d0>"
     },
     "execution_count": 47,
     "metadata": {},
     "output_type": "execute_result"
    }
   ],
   "source": [
    "doc.add_picture('../data/zophie.png', width=docx.shared.Inches(1),\n",
    "height=docx.shared.Cm(4))"
   ],
   "metadata": {
    "collapsed": false,
    "pycharm": {
     "name": "#%%\n"
    }
   }
  },
  {
   "cell_type": "code",
   "execution_count": null,
   "outputs": [],
   "source": [
    "\n"
   ],
   "metadata": {
    "collapsed": false,
    "pycharm": {
     "name": "#%%\n"
    }
   }
  }
 ],
 "metadata": {
  "kernelspec": {
   "display_name": "Python 3",
   "language": "python",
   "name": "python3"
  },
  "language_info": {
   "codemirror_mode": {
    "name": "ipython",
    "version": 2
   },
   "file_extension": ".py",
   "mimetype": "text/x-python",
   "name": "python",
   "nbconvert_exporter": "python",
   "pygments_lexer": "ipython2",
   "version": "2.7.6"
  }
 },
 "nbformat": 4,
 "nbformat_minor": 0
}