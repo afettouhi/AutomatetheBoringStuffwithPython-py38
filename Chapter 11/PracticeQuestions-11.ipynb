{
 "cells": [
  {
   "cell_type": "code",
   "execution_count": null,
   "metadata": {
    "collapsed": true
   },
   "outputs": [],
   "source": [
    "# Q: 5. How do you save a Requests response to a file?\n",
    "\n",
    "import requests\n",
    "\n",
    "saveFile = open('filename.html', 'wb')\n",
    "for chunk in res.iter_content(100000):\n",
    "    saveFile.write(chunk)"
   ]
  },
  {
   "cell_type": "code",
   "execution_count": null,
   "outputs": [],
   "source": [
    "# Q: 8. What is the CSS selector string that would find the element with an id attribute of main?\n",
    "\n",
    "'#main'"
   ],
   "metadata": {
    "collapsed": false,
    "pycharm": {
     "name": "#%%\n"
    }
   }
  },
  {
   "cell_type": "code",
   "execution_count": null,
   "outputs": [],
   "source": [
    "# Q: 9. What is the CSS selector string that would find the elements with a CSS class of highlight?\n",
    "\n",
    "'.highlight'"
   ],
   "metadata": {
    "collapsed": false,
    "pycharm": {
     "name": "#%%\n"
    }
   }
  },
  {
   "cell_type": "code",
   "execution_count": null,
   "outputs": [],
   "source": [
    "# Q: 10. What is the CSS selector string that would find all the <div> elements inside another <div> element?\n",
    "\n",
    "'div div'"
   ],
   "metadata": {
    "collapsed": false,
    "pycharm": {
     "name": "#%%\n"
    }
   }
  },
  {
   "cell_type": "code",
   "execution_count": null,
   "outputs": [],
   "source": [
    "# Q: 11. What is the CSS selector string that would find the <button> element with a value attribute set to favorite?\n",
    "\n",
    "'button[value=\"favorite\"]'"
   ],
   "metadata": {
    "collapsed": false,
    "pycharm": {
     "name": "#%%\n"
    }
   }
  },
  {
   "cell_type": "code",
   "execution_count": null,
   "outputs": [],
   "source": [
    "# Q: 12. Say you have a Beautiful Soup Tag object stored in the variable spam for the element <div>Hello world!</div>.\n",
    "# How could you get a string 'Hello world!' from the Tag object?\n",
    "\n",
    "spam.getText()"
   ],
   "metadata": {
    "collapsed": false,
    "pycharm": {
     "name": "#%%\n"
    }
   }
  },
  {
   "cell_type": "code",
   "execution_count": null,
   "outputs": [],
   "source": [
    "# Q: 13. How would you store all the attributes of a Beautiful Soup Tag object in a variable named linkElem?\n",
    "\n",
    "linkElem.attrs"
   ],
   "metadata": {
    "collapsed": false,
    "pycharm": {
     "name": "#%%\n"
    }
   }
  },
  {
   "cell_type": "code",
   "execution_count": null,
   "outputs": [],
   "source": [
    "# Q: 14. Running import selenium doesn’t work. How do you properly import the selenium module?\n",
    "\n",
    "from selenium import webdriver\n"
   ],
   "metadata": {
    "collapsed": false,
    "pycharm": {
     "name": "#%%\n"
    }
   }
  }
 ],
 "metadata": {
  "kernelspec": {
   "display_name": "Python 3",
   "language": "python",
   "name": "python3"
  },
  "language_info": {
   "codemirror_mode": {
    "name": "ipython",
    "version": 2
   },
   "file_extension": ".py",
   "mimetype": "text/x-python",
   "name": "python",
   "nbconvert_exporter": "python",
   "pygments_lexer": "ipython2",
   "version": "2.7.6"
  }
 },
 "nbformat": 4,
 "nbformat_minor": 0
}